{
 "cells": [
  {
   "cell_type": "code",
   "execution_count": 1,
   "metadata": {},
   "outputs": [
    {
     "name": "stdout",
     "output_type": "stream",
     "text": [
      "1.0.3\n"
     ]
    }
   ],
   "source": [
    "%matplotlib widget\n",
    "import matplotlib.pyplot as plt\n",
    "import pandas as pd\n",
    "import numpy as np\n",
    "import seaborn as sns\n",
    "from matplotlib import rcParams\n",
    "\n",
    "plt.style.use('ggplot')\n",
    "# Это чтобы не обрезало подписи по x\n",
    "rcParams.update({'figure.autolayout': True})\n",
    "\n",
    "print(pd.__version__)"
   ]
  },
  {
   "cell_type": "code",
   "execution_count": 2,
   "metadata": {},
   "outputs": [],
   "source": [
    "df = pd.read_csv(\"polls/salaries.csv\")"
   ]
  },
  {
   "cell_type": "markdown",
   "metadata": {},
   "source": [
    "## Номера столбцов\n",
    "\n",
    "0. Время ответа\n",
    "1. Пол\n",
    "2. Ваш возраст\n",
    "3. Укажите город вашего проживания\n",
    "4. Какова ваша ситуация с жильем\n",
    "5. Ваше образование\n",
    "6. Ваш уровень знания английского языка\n",
    "7. Сколько лет вы работаете в ИТ?\n",
    "8. Какова форма вашего трудоустройства?\n",
    "9. Как вы работаете? (без учета нынешней ситуации с самоизоляцией)\n",
    "10. Чем занимается ваша компания?\n",
    "11. Где расположена ваша компания?\n",
    "12. Сколько сотрудников в вашей компании (в целом)?\n",
    "13. Сколько времени вы работаете (или работали) на последнем месте работы? \n",
    "14. Как вы относитесь к переработкам?\n",
    "15. Как часто вы перерабатываете?\n",
    "16. Оцените по шкале от 1 до 10, с какой вероятностью вы бы рекомендовали текущего работодателя своим друзьям и близким.\n",
    "17. По шкале от 0 до 10, насколько вероятно, что вы смените работу в течение ближайших 6 месяцев? *\n",
    "18. Если рассматриваете смену работы сейчас, то по какой причине?\n",
    "19. С какой частотой вы меняли работу за свою карьеру в ИТ? \n",
    "20. Какой способ поиска работы в ИТ оказался для вас самым эффективным?\n",
    "21. Как обычно формировался уровень вашей ЗП при смене работы в ИТ?\n",
    "22. По шкале от 0 до 10 оцените возможность релокации в ближайшие 6 месяцев?\n",
    "23. Если рассматриваете релокацию, то куда?\n",
    "24. Если рассматриваете релокацию, то по какой причине?\n",
    "25. Меняли ли вы специализацию за свою карьеру в ИТ?\n",
    "26. Пожалуйста, расскажите о своем опыте смены специализации в ИТ\n",
    "27. Планируете ли вы сменить специализацию в ближайшие 12 месяцев?\n",
    "28. Если планируете сменить, то ваша новая специальность:\n",
    "29. Если планируете сменить, выберите вашу будущую специальность:\n",
    "30. К какой валюте привязана ваша ЗП?\n",
    "31. Сколько вы зарабатываете в месяц на основном месте работы, USD?\n",
    "32. По шкале от 0 до 10 оцените, хватает ли вам текущего заработка?\n",
    "33. Сколько вы зарабатывали на основном месте работы год назад (в месяц, USD)?\n",
    "34. Какой заработок в месяц вы считаете справедливым в вашей текущей ситуации, USD?\n",
    "35. Был ли у вас пересмотр ЗП в текущей компании?\n",
    "36. Как обычно вы получали повышение ЗП за свою карьеру в ИТ?\n",
    "37. Какие финансовые бонусы вы получаете?\n",
    "38. Какие другие бонусы вы получаете?\n",
    "39. Являетесь ли вы собственником/совладельцем компании? \n",
    "40. Как бы вы оценили свой уровень/грейд?\n",
    "41. Какова ваша основная роль в структуре компании? \n",
    "42. Кем вы работаете?\n",
    "43. Сколько сотрудников у вас в подчинении\n",
    "44. Кем вы работаете?\n",
    "45. Есть ли сотрудники у вас в подчинении?\n",
    "46. Кем вы работаете?\n",
    "47. Укажите язык программирования, на котором вы пишете на текущем проекте \n",
    "48. Есть ли сотрудники у вас в подчинении?\n",
    "49. Есть ли стажеры у вас в подчинении\n",
    "50. Кем вы работаете?\n",
    "51. Какими инструментами (дизайн, прототипирование) пользуетесь на текущем проекте?\n",
    "52. Есть ли сотрудники у вас в подчинении?\n",
    "53. Есть ли стажеры у вас в подчинении\n",
    "54. Кем вы работаете?\n",
    "55. Есть ли сотрудники у вас в подчинении?\n",
    "56. Есть ли стажеры у вас в подчинении\n",
    "57. Кем вы работаете?\n",
    "58. Есть ли сотрудники у вас в подчинении?\n",
    "59. Есть ли стажеры у вас в подчинении\n",
    "60. Кем вы работаете?\n",
    "61. Есть ли сотрудники у вас в подчинении?\n",
    "62. Есть ли стажеры у вас в подчинении\n",
    "63. Кем вы работаете?\n",
    "64. Есть ли сотрудники у вас в подчинении?\n",
    "65. Есть ли стажеры у вас в подчинении\n",
    "66. Кем вы работаете?\n",
    "67. Есть ли сотрудники у вас в подчинении?\n",
    "68. Есть ли стажеры у вас в подчинении\n",
    "69. Кем вы работаете?\n",
    "71. Есть ли сотрудники у вас в подчинении?\n",
    "72. Есть ли стажеры у вас в подчинении\n",
    "73. Кем вы работаете?\n",
    "74. Если вы хотите поделиться дополнительной информацией о своей работе, рассказать забавный случай или излить душевную боль, у вас есть неограниченное количество знаков и гарантия понимания с нашей70 стороны :)"
   ]
  },
  {
   "cell_type": "code",
   "execution_count": 3,
   "metadata": {},
   "outputs": [],
   "source": [
    "answer_time = df.columns[0]\n",
    "gender = df.columns[1]\n",
    "age = df.columns[2]\n",
    "living_sity = df.columns[3]\n",
    "accomondation = df.columns[4]\n",
    "education = df.columns[5]\n",
    "english_level = df.columns[6]\n",
    "work_experience = df.columns[7]\n",
    "company_speciality = df.columns[10]\n",
    "work_location = df.columns[11]\n",
    "company_size = df.columns[12]\n",
    "overtime_frequency = df.columns[15]\n",
    "company_recomendations = df.columns[16]\n",
    "company_change = df.columns[17]\n",
    "work_change_reason = df.columns[18]\n",
    "relocation_probability = df.columns[22]\n",
    "relocation_direction = df.columns[23]\n",
    "relocation_reason = df.columns[24]\n",
    "current_salary = df.columns[31]\n",
    "expected_salary = df.columns[34]\n",
    "year_ago_salary = df.columns[33]\n",
    "grade_level = df.columns[40]\n",
    "work_role = df.columns[41]\n",
    "finansial_bonuses = df.columns[37]\n",
    "non_finansial_bonuses = df.columns[38]\n",
    "dev_speciality = df.columns[46]\n",
    "programming_language = df.columns[47]"
   ]
  },
  {
   "cell_type": "code",
   "execution_count": 4,
   "metadata": {},
   "outputs": [],
   "source": [
    "(df := df.replace({\n",
    "    # Название работ\n",
    "    \"Toп-менеджмент, C-level (CEO, COO, HRD, CTO, CMO, Art Director и прочие Chief/Head/VP)\": \"C-level\",\n",
    "    \"Менеджмент проектов/продуктов\": \"Менеджмент\",\n",
    "    \"Программирование/разработка\": \"Разработка\",\n",
    "    \"QA, тестирование\": \"QA\",\n",
    "    \"Другое (юристы, финансисты, бухгалтерия, офис-менеджмент)\": \"Другое\",\n",
    "    \"Маркетинг/продажи/PR\": \"Маркетинг\",\n",
    "    # Название мест\n",
    "    \"В Калининграде (в области)\": \"В области\",\n",
    "    \"В другом городе России\": \"Другие регионы\",\n",
    "    \"В Москве\": \"Москва\",\n",
    "    \"В Питере\": \"Питер\",\n",
    "    \"В Европе\": \"Европа\",\n",
    "    \"В США\": \"США\",\n",
    "    \"В СНГ\": \"СНГ\",\n",
    "    # \n",
    "    \"Высшее (бакалавр/магистр/специалист)\": \"Высшее\",\n",
    "    \"Неоконченное высшее (бросил учебу на 2-4 курсе)\": \"Неполное высшее\",\n",
    "    \"Два и более высших\": \"Несколько высших\",\n",
    "    \"Среднее специальное (колледж, техникум)\":\"Среднее специальное\",\n",
    "    \"Кандидат или научная степень\":\"Кандидат/степень\",\n",
    "    #\n",
    "    \"Продвинутый и выше (C1...)\":\"Продвинутый+ (С1+)\",\n",
    "    \"Работаю сам(а) на себя\":\"Самозанятый\",\n",
    "    #\n",
    "    \"Почти каждый день, еще и на выходных\":\"Каждый день+выходные\",\n",
    "    \"Expert/Architect/Top/Chief/Head/VP\":\"Expert/Head\",\n",
    "    #\n",
    "    \"Fullstack-разработчиком\":\"Fullstack\",\n",
    "    \"Frontend-разработчиком\":\"Frontend\",\n",
    "    \"Backend-разработчиком\":\"Backend\",\n",
    "    \"Кроссплатформенным разработчиком\":\"Кроссплатформа\",\n",
    "    \"Android-разработчиком\":\"Android\",\n",
    "    #\n",
    "    11111111:11111\n",
    "    #\"\": \"\",\n",
    "}))\n",
    "\n",
    "\n",
    "kaliningradF = df[df[work_location] == \"В области\"]\n",
    "otherSitiesF = df[df[work_location] != \"В области\"]"
   ]
  },
  {
   "cell_type": "code",
   "execution_count": 6,
   "metadata": {},
   "outputs": [
    {
     "data": {
      "text/html": [
       "<div>\n",
       "<style scoped>\n",
       "    .dataframe tbody tr th:only-of-type {\n",
       "        vertical-align: middle;\n",
       "    }\n",
       "\n",
       "    .dataframe tbody tr th {\n",
       "        vertical-align: top;\n",
       "    }\n",
       "\n",
       "    .dataframe thead th {\n",
       "        text-align: right;\n",
       "    }\n",
       "</style>\n",
       "<table border=\"1\" class=\"dataframe\">\n",
       "  <thead>\n",
       "    <tr style=\"text-align: right;\">\n",
       "      <th></th>\n",
       "      <th>Ваш возраст</th>\n",
       "      <th>Сколько времени вы работаете (или работали) на последнем месте работы?</th>\n",
       "      <th>Оцените по шкале от 1 до 10, с какой вероятностью вы бы рекомендовали текущего работодателя своим друзьям и близким.</th>\n",
       "      <th>По шкале от 0 до 10, насколько вероятно, что вы смените работу в течение ближайших 6 месяцев? *</th>\n",
       "      <th>По шкале от 0 до 10 оцените возможность релокации в ближайшие 6 месяцев?</th>\n",
       "      <th>Сколько вы зарабатываете в месяц на основном месте работы, USD?</th>\n",
       "      <th>По шкале от 0 до 10 оцените, хватает ли вам текущего заработка?</th>\n",
       "      <th>Сколько вы зарабатывали на основном месте работы год назад (в месяц, USD)?</th>\n",
       "      <th>Какой заработок в месяц вы считаете справедливым в вашей текущей ситуации (профессия, опыт, успех компании), USD?</th>\n",
       "    </tr>\n",
       "  </thead>\n",
       "  <tbody>\n",
       "    <tr>\n",
       "      <th>count</th>\n",
       "      <td>169.000000</td>\n",
       "      <td>169.000000</td>\n",
       "      <td>169.000000</td>\n",
       "      <td>169.000000</td>\n",
       "      <td>169.000000</td>\n",
       "      <td>169.000000</td>\n",
       "      <td>169.000000</td>\n",
       "      <td>169.000000</td>\n",
       "      <td>169.000000</td>\n",
       "    </tr>\n",
       "    <tr>\n",
       "      <th>mean</th>\n",
       "      <td>30.082840</td>\n",
       "      <td>2.840237</td>\n",
       "      <td>7.769231</td>\n",
       "      <td>4.142012</td>\n",
       "      <td>2.834320</td>\n",
       "      <td>1444.303821</td>\n",
       "      <td>6.698225</td>\n",
       "      <td>1197.712616</td>\n",
       "      <td>2105.285041</td>\n",
       "    </tr>\n",
       "    <tr>\n",
       "      <th>std</th>\n",
       "      <td>5.735665</td>\n",
       "      <td>3.032254</td>\n",
       "      <td>1.883512</td>\n",
       "      <td>3.166596</td>\n",
       "      <td>2.941251</td>\n",
       "      <td>1077.449754</td>\n",
       "      <td>2.379988</td>\n",
       "      <td>1123.505215</td>\n",
       "      <td>1944.065231</td>\n",
       "    </tr>\n",
       "    <tr>\n",
       "      <th>min</th>\n",
       "      <td>17.000000</td>\n",
       "      <td>0.000000</td>\n",
       "      <td>2.000000</td>\n",
       "      <td>0.000000</td>\n",
       "      <td>0.000000</td>\n",
       "      <td>276.000000</td>\n",
       "      <td>0.000000</td>\n",
       "      <td>1.000000</td>\n",
       "      <td>332.000000</td>\n",
       "    </tr>\n",
       "    <tr>\n",
       "      <th>25%</th>\n",
       "      <td>26.000000</td>\n",
       "      <td>1.000000</td>\n",
       "      <td>7.000000</td>\n",
       "      <td>2.000000</td>\n",
       "      <td>0.000000</td>\n",
       "      <td>700.000000</td>\n",
       "      <td>5.000000</td>\n",
       "      <td>533.000000</td>\n",
       "      <td>1000.000000</td>\n",
       "    </tr>\n",
       "    <tr>\n",
       "      <th>50%</th>\n",
       "      <td>30.000000</td>\n",
       "      <td>2.000000</td>\n",
       "      <td>8.000000</td>\n",
       "      <td>4.000000</td>\n",
       "      <td>2.000000</td>\n",
       "      <td>1200.000000</td>\n",
       "      <td>7.000000</td>\n",
       "      <td>900.000000</td>\n",
       "      <td>1500.000000</td>\n",
       "    </tr>\n",
       "    <tr>\n",
       "      <th>75%</th>\n",
       "      <td>34.000000</td>\n",
       "      <td>4.000000</td>\n",
       "      <td>9.000000</td>\n",
       "      <td>7.000000</td>\n",
       "      <td>5.000000</td>\n",
       "      <td>1700.000000</td>\n",
       "      <td>8.000000</td>\n",
       "      <td>1500.000000</td>\n",
       "      <td>2500.000000</td>\n",
       "    </tr>\n",
       "    <tr>\n",
       "      <th>max</th>\n",
       "      <td>59.000000</td>\n",
       "      <td>10.000000</td>\n",
       "      <td>10.000000</td>\n",
       "      <td>10.000000</td>\n",
       "      <td>10.000000</td>\n",
       "      <td>8000.000000</td>\n",
       "      <td>10.000000</td>\n",
       "      <td>8000.000000</td>\n",
       "      <td>15000.000000</td>\n",
       "    </tr>\n",
       "  </tbody>\n",
       "</table>\n",
       "</div>"
      ],
      "text/plain": [
       "       Ваш возраст  \\\n",
       "count   169.000000   \n",
       "mean     30.082840   \n",
       "std       5.735665   \n",
       "min      17.000000   \n",
       "25%      26.000000   \n",
       "50%      30.000000   \n",
       "75%      34.000000   \n",
       "max      59.000000   \n",
       "\n",
       "       Сколько времени вы работаете (или работали) на последнем месте работы?   \\\n",
       "count                                         169.000000                         \n",
       "mean                                            2.840237                         \n",
       "std                                             3.032254                         \n",
       "min                                             0.000000                         \n",
       "25%                                             1.000000                         \n",
       "50%                                             2.000000                         \n",
       "75%                                             4.000000                         \n",
       "max                                            10.000000                         \n",
       "\n",
       "       Оцените по шкале от 1 до 10, с какой вероятностью вы бы рекомендовали текущего работодателя своим друзьям и близким.  \\\n",
       "count                                         169.000000                                                                      \n",
       "mean                                            7.769231                                                                      \n",
       "std                                             1.883512                                                                      \n",
       "min                                             2.000000                                                                      \n",
       "25%                                             7.000000                                                                      \n",
       "50%                                             8.000000                                                                      \n",
       "75%                                             9.000000                                                                      \n",
       "max                                            10.000000                                                                      \n",
       "\n",
       "       По шкале от 0 до 10, насколько вероятно, что вы смените работу в течение ближайших 6 месяцев? *  \\\n",
       "count                                         169.000000                                                 \n",
       "mean                                            4.142012                                                 \n",
       "std                                             3.166596                                                 \n",
       "min                                             0.000000                                                 \n",
       "25%                                             2.000000                                                 \n",
       "50%                                             4.000000                                                 \n",
       "75%                                             7.000000                                                 \n",
       "max                                            10.000000                                                 \n",
       "\n",
       "       По шкале от 0 до 10 оцените возможность релокации в ближайшие 6 месяцев?  \\\n",
       "count                                         169.000000                          \n",
       "mean                                            2.834320                          \n",
       "std                                             2.941251                          \n",
       "min                                             0.000000                          \n",
       "25%                                             0.000000                          \n",
       "50%                                             2.000000                          \n",
       "75%                                             5.000000                          \n",
       "max                                            10.000000                          \n",
       "\n",
       "       Сколько вы зарабатываете в месяц на основном месте работы, USD?  \\\n",
       "count                                         169.000000                 \n",
       "mean                                         1444.303821                 \n",
       "std                                          1077.449754                 \n",
       "min                                           276.000000                 \n",
       "25%                                           700.000000                 \n",
       "50%                                          1200.000000                 \n",
       "75%                                          1700.000000                 \n",
       "max                                          8000.000000                 \n",
       "\n",
       "       По шкале от 0 до 10 оцените, хватает ли вам текущего заработка?   \\\n",
       "count                                         169.000000                  \n",
       "mean                                            6.698225                  \n",
       "std                                             2.379988                  \n",
       "min                                             0.000000                  \n",
       "25%                                             5.000000                  \n",
       "50%                                             7.000000                  \n",
       "75%                                             8.000000                  \n",
       "max                                            10.000000                  \n",
       "\n",
       "       Сколько вы зарабатывали на основном месте работы год назад (в месяц, USD)?  \\\n",
       "count                                         169.000000                            \n",
       "mean                                         1197.712616                            \n",
       "std                                          1123.505215                            \n",
       "min                                             1.000000                            \n",
       "25%                                           533.000000                            \n",
       "50%                                           900.000000                            \n",
       "75%                                          1500.000000                            \n",
       "max                                          8000.000000                            \n",
       "\n",
       "       Какой заработок в месяц вы считаете справедливым в вашей текущей ситуации (профессия, опыт, успех компании), USD?  \n",
       "count                                         169.000000                                                                  \n",
       "mean                                         2105.285041                                                                  \n",
       "std                                          1944.065231                                                                  \n",
       "min                                           332.000000                                                                  \n",
       "25%                                          1000.000000                                                                  \n",
       "50%                                          1500.000000                                                                  \n",
       "75%                                          2500.000000                                                                  \n",
       "max                                         15000.000000                                                                  "
      ]
     },
     "execution_count": 6,
     "metadata": {},
     "output_type": "execute_result"
    }
   ],
   "source": [
    "df.describe()"
   ]
  },
  {
   "cell_type": "code",
   "execution_count": 7,
   "metadata": {},
   "outputs": [],
   "source": [
    "medianprops = dict(linestyle='-', linewidth=3, color='k')\n",
    "\n",
    "colors = [\"#4285F4\", \"#DB4437\", \"#F4B400\", \"#0F9D58\"]\n",
    "palette = sns.color_palette(colors,desat=1)\n",
    "order=None\n",
    "\n",
    "def doBoxplot(groupingCollumn,aggregationColumn,title,xlabel,ylabel,order,dataFrame=df,numberIndex=False):\n",
    "    counts = dataFrame[groupingCollumn].value_counts()\n",
    "\n",
    "    plt.figure()\n",
    "    ax = sns.boxplot(x=aggregationColumn,y=groupingCollumn,data=dataFrame,showfliers=False,medianprops=medianprops,order=order,palette=palette,orient=\"h\")\n",
    "\n",
    "    plt.xlabel(xlabel)\n",
    "    plt.ylabel(ylabel)\n",
    "    plt.xticks(rotation=\"horizontal\")\n",
    "    plt.title(title)\n",
    "    plt.suptitle('')\n",
    "    \n",
    "    ax.set_yticklabels(str(item) + \": \" + str(counts[item]) for item in order)"
   ]
  },
  {
   "cell_type": "code",
   "execution_count": 8,
   "metadata": {},
   "outputs": [],
   "source": [
    "def doValueCountsPlotNumbers(groupingCollumn,title,xlabel,ylabel,flat=False,sort=True,dataFrame=df,plotType=\"bar\",countFilter=2):\n",
    "    series = dataFrame[groupingCollumn]\n",
    "    \n",
    "    if (flat):\n",
    "        series = series.str.split(\", \").explode()\n",
    "    \n",
    "    counts = series.value_counts(sort=sort)\n",
    "    \n",
    "    counts = counts[counts > countFilter]\n",
    "    \n",
    "    (ax := counts.to_frame().plot(\n",
    "        kind = plotType, \n",
    "        legend=None, \n",
    "        title=title,\n",
    "        color=palette\n",
    "    ))\n",
    "    \n",
    "    plt.xlabel(xlabel)\n",
    "    plt.ylabel(ylabel)\n",
    "    plt.xticks(rotation=\"horizontal\")\n",
    "    \n",
    "    return ax"
   ]
  },
  {
   "cell_type": "markdown",
   "metadata": {},
   "source": [
    "# Условия работы\n",
    "\n",
    "Компании тех, кто работает на калининград"
   ]
  },
  {
   "cell_type": "code",
   "execution_count": 9,
   "metadata": {},
   "outputs": [
    {
     "data": {
      "application/vnd.jupyter.widget-view+json": {
       "model_id": "c121d86ff14647ef8a738931f19c63b1",
       "version_major": 2,
       "version_minor": 0
      },
      "text/plain": [
       "Canvas(toolbar=Toolbar(toolitems=[('Home', 'Reset original view', 'home', 'home'), ('Back', 'Back to previous …"
      ]
     },
     "metadata": {},
     "output_type": "display_data"
    },
    {
     "data": {
      "text/plain": [
       "<matplotlib.axes._subplots.AxesSubplot at 0x1212eb8e0>"
      ]
     },
     "execution_count": 9,
     "metadata": {},
     "output_type": "execute_result"
    }
   ],
   "source": [
    "doValueCountsPlotNumbers(\n",
    "    groupingCollumn=company_speciality,\n",
    "    title=\"Чем занимается компания\",\n",
    "    xlabel=\"Количество ответов\",\n",
    "    ylabel=\"Деятельность\",\n",
    "    plotType=\"barh\",\n",
    "    dataFrame=kaliningradF\n",
    ")"
   ]
  },
  {
   "cell_type": "code",
   "execution_count": 10,
   "metadata": {},
   "outputs": [
    {
     "data": {
      "application/vnd.jupyter.widget-view+json": {
       "model_id": "e3445267b65444a8bbbf35a877b045b1",
       "version_major": 2,
       "version_minor": 0
      },
      "text/plain": [
       "Canvas(toolbar=Toolbar(toolitems=[('Home', 'Reset original view', 'home', 'home'), ('Back', 'Back to previous …"
      ]
     },
     "metadata": {},
     "output_type": "display_data"
    },
    {
     "data": {
      "text/plain": [
       "<matplotlib.axes._subplots.AxesSubplot at 0x123379a90>"
      ]
     },
     "execution_count": 10,
     "metadata": {},
     "output_type": "execute_result"
    }
   ],
   "source": [
    "doValueCountsPlotNumbers(\n",
    "    groupingCollumn=company_size,\n",
    "    title=\"Размер компаний\",\n",
    "    xlabel=\"Количество человек\",\n",
    "    ylabel=\"Количество ответов\",\n",
    "    dataFrame=kaliningradF\n",
    ")"
   ]
  },
  {
   "cell_type": "code",
   "execution_count": 11,
   "metadata": {},
   "outputs": [
    {
     "data": {
      "application/vnd.jupyter.widget-view+json": {
       "model_id": "0577d8dc0f81479da12476611d4bc023",
       "version_major": 2,
       "version_minor": 0
      },
      "text/plain": [
       "Canvas(toolbar=Toolbar(toolitems=[('Home', 'Reset original view', 'home', 'home'), ('Back', 'Back to previous …"
      ]
     },
     "metadata": {},
     "output_type": "display_data"
    },
    {
     "data": {
      "text/plain": [
       "<matplotlib.axes._subplots.AxesSubplot at 0x121299490>"
      ]
     },
     "execution_count": 11,
     "metadata": {},
     "output_type": "execute_result"
    }
   ],
   "source": [
    "doValueCountsPlotNumbers(\n",
    "    groupingCollumn=company_recomendations,\n",
    "    title=\"Как сильно советуют свои компании\",\n",
    "    xlabel=\"0 - Только не сюда, 10 - За императора!!!!\",\n",
    "    ylabel=\"Количество ответов\",\n",
    "    dataFrame=kaliningradF,\n",
    "    sort=False,\n",
    "    countFilter=0\n",
    ")"
   ]
  },
  {
   "cell_type": "markdown",
   "metadata": {},
   "source": [
    "# Смена работы"
   ]
  },
  {
   "cell_type": "code",
   "execution_count": 12,
   "metadata": {},
   "outputs": [
    {
     "data": {
      "application/vnd.jupyter.widget-view+json": {
       "model_id": "2dbe7b9c0e6043329f6c85816da52bf0",
       "version_major": 2,
       "version_minor": 0
      },
      "text/plain": [
       "Canvas(toolbar=Toolbar(toolitems=[('Home', 'Reset original view', 'home', 'home'), ('Back', 'Back to previous …"
      ]
     },
     "metadata": {},
     "output_type": "display_data"
    },
    {
     "data": {
      "text/plain": [
       "<matplotlib.axes._subplots.AxesSubplot at 0x12342e3a0>"
      ]
     },
     "execution_count": 12,
     "metadata": {},
     "output_type": "execute_result"
    }
   ],
   "source": [
    "doValueCountsPlotNumbers(\n",
    "    groupingCollumn=relocation_reason,\n",
    "    title=\"Причины желания релокации\",\n",
    "    xlabel=\"Количество\",\n",
    "    ylabel=\"Причины\",\n",
    "    plotType=\"barh\",\n",
    "    countFilter=2,\n",
    "    flat=True\n",
    ")"
   ]
  },
  {
   "cell_type": "code",
   "execution_count": 13,
   "metadata": {},
   "outputs": [
    {
     "data": {
      "application/vnd.jupyter.widget-view+json": {
       "model_id": "28a90178264a469986cfb5747462f11d",
       "version_major": 2,
       "version_minor": 0
      },
      "text/plain": [
       "Canvas(toolbar=Toolbar(toolitems=[('Home', 'Reset original view', 'home', 'home'), ('Back', 'Back to previous …"
      ]
     },
     "metadata": {},
     "output_type": "display_data"
    },
    {
     "data": {
      "text/plain": [
       "<matplotlib.axes._subplots.AxesSubplot at 0x1234a4d90>"
      ]
     },
     "execution_count": 13,
     "metadata": {},
     "output_type": "execute_result"
    }
   ],
   "source": [
    "doValueCountsPlotNumbers(\n",
    "    groupingCollumn=finansial_bonuses,\n",
    "    title=\"Финансовые бонусы\",\n",
    "    xlabel=\"Количество\",\n",
    "    ylabel=\"Бонус\",\n",
    "    plotType=\"barh\",\n",
    "    dataFrame=kaliningradF,\n",
    "    countFilter=2,\n",
    "    flat=True\n",
    ")"
   ]
  },
  {
   "cell_type": "code",
   "execution_count": 14,
   "metadata": {},
   "outputs": [
    {
     "data": {
      "application/vnd.jupyter.widget-view+json": {
       "model_id": "bdf81ec7b6f644c9b8587d9cb7b976ff",
       "version_major": 2,
       "version_minor": 0
      },
      "text/plain": [
       "Canvas(toolbar=Toolbar(toolitems=[('Home', 'Reset original view', 'home', 'home'), ('Back', 'Back to previous …"
      ]
     },
     "metadata": {},
     "output_type": "display_data"
    },
    {
     "data": {
      "text/plain": [
       "<matplotlib.axes._subplots.AxesSubplot at 0x1234ec430>"
      ]
     },
     "execution_count": 14,
     "metadata": {},
     "output_type": "execute_result"
    }
   ],
   "source": [
    "doValueCountsPlotNumbers(\n",
    "    groupingCollumn=non_finansial_bonuses,\n",
    "    title=\"Не финансовые бонусы\",\n",
    "    xlabel=\"Количество\",\n",
    "    ylabel=\"Бонус\",\n",
    "    plotType=\"barh\",\n",
    "    dataFrame=kaliningradF,\n",
    "    countFilter=5,\n",
    "    flat=True\n",
    ")"
   ]
  },
  {
   "cell_type": "code",
   "execution_count": 15,
   "metadata": {},
   "outputs": [
    {
     "data": {
      "application/vnd.jupyter.widget-view+json": {
       "model_id": "3c0b021e7998438dad2f6b41ef460c47",
       "version_major": 2,
       "version_minor": 0
      },
      "text/plain": [
       "Canvas(toolbar=Toolbar(toolitems=[('Home', 'Reset original view', 'home', 'home'), ('Back', 'Back to previous …"
      ]
     },
     "metadata": {},
     "output_type": "display_data"
    },
    {
     "data": {
      "text/plain": [
       "<matplotlib.axes._subplots.AxesSubplot at 0x123585a90>"
      ]
     },
     "execution_count": 15,
     "metadata": {},
     "output_type": "execute_result"
    }
   ],
   "source": [
    "(relocationFrame := df.loc[df.apply(lambda x: any(item in str(x[relocation_direction]) for item in [\"Европу\", \"США\"]), axis=1)])\n",
    "\n",
    "doValueCountsPlotNumbers(\n",
    "    groupingCollumn=english_level,\n",
    "    title=\"Правда жизни\",\n",
    "    xlabel=\"Количество ответов\",\n",
    "    ylabel=\"Уровень английского\",\n",
    "    plotType=\"barh\",\n",
    "    dataFrame=relocationFrame\n",
    ")"
   ]
  },
  {
   "cell_type": "markdown",
   "metadata": {},
   "source": [
    "# Зарплата"
   ]
  },
  {
   "cell_type": "code",
   "execution_count": 16,
   "metadata": {},
   "outputs": [
    {
     "data": {
      "application/vnd.jupyter.widget-view+json": {
       "model_id": "73cfc82b34ba48fda309450cb22beedd",
       "version_major": 2,
       "version_minor": 0
      },
      "text/plain": [
       "Canvas(toolbar=Toolbar(toolitems=[('Home', 'Reset original view', 'home', 'home'), ('Back', 'Back to previous …"
      ]
     },
     "metadata": {},
     "output_type": "display_data"
    },
    {
     "data": {
      "text/plain": [
       "(array([0, 1, 2]), <a list of 3 Text major ticklabel objects>)"
      ]
     },
     "execution_count": 16,
     "metadata": {},
     "output_type": "execute_result"
    }
   ],
   "source": [
    "(data := df[[year_ago_salary, current_salary, expected_salary]]\n",
    " .rename(columns={current_salary:\"Текущая\", expected_salary:\"Желаемая\", year_ago_salary:\"Год назад\"})\n",
    " .quantile([.25, .5, .75]))\n",
    "\n",
    "data.plot(kind=\"bar\", title=\"Распределение текущих зарплат\")\n",
    "\n",
    "plt.xlabel(\"Перцентили\")\n",
    "plt.ylabel(\"Зарплата, USD\")\n",
    "plt.xticks(rotation=\"horizontal\")"
   ]
  },
  {
   "cell_type": "code",
   "execution_count": 17,
   "metadata": {},
   "outputs": [
    {
     "data": {
      "application/vnd.jupyter.widget-view+json": {
       "model_id": "f7e04bd0dd184264ba2a549dfaed89c2",
       "version_major": 2,
       "version_minor": 0
      },
      "text/plain": [
       "Canvas(toolbar=Toolbar(toolitems=[('Home', 'Reset original view', 'home', 'home'), ('Back', 'Back to previous …"
      ]
     },
     "metadata": {},
     "output_type": "display_data"
    },
    {
     "data": {
      "text/plain": [
       "(array([-1000.,     0.,  1000.,  2000.,  3000.,  4000.,  5000.]),\n",
       " <a list of 7 Text major ticklabel objects>)"
      ]
     },
     "execution_count": 17,
     "metadata": {},
     "output_type": "execute_result"
    }
   ],
   "source": [
    "(salaries := df[[year_ago_salary, current_salary, expected_salary]]\n",
    " .rename(columns={current_salary:\"Текущая\", expected_salary:\"Желаемая\", year_ago_salary:\"Год назад\"}))\n",
    "\n",
    "plt.figure()\n",
    "\n",
    "sns.boxplot(data=salaries,showfliers=False,medianprops=medianprops,palette=palette,orient=\"h\")\n",
    "\n",
    "plt.title(\"Что имеем, а что хотим\")\n",
    "plt.ylabel(\"Перцентили\")\n",
    "plt.xlabel(\"Зарплата, USD\")\n",
    "plt.xticks(rotation=\"horizontal\")"
   ]
  },
  {
   "cell_type": "markdown",
   "metadata": {},
   "source": [
    "Процент людей с зарплатой на 30% ниже желаемой"
   ]
  },
  {
   "cell_type": "code",
   "execution_count": 18,
   "metadata": {},
   "outputs": [
    {
     "data": {
      "text/plain": [
       "36.09467455621302"
      ]
     },
     "execution_count": 18,
     "metadata": {},
     "output_type": "execute_result"
    }
   ],
   "source": [
    "len(df[df[current_salary] < (df[expected_salary]*.7)])/len(df)*100"
   ]
  },
  {
   "cell_type": "markdown",
   "metadata": {},
   "source": [
    "## Язык и образование"
   ]
  },
  {
   "cell_type": "code",
   "execution_count": 19,
   "metadata": {},
   "outputs": [
    {
     "data": {
      "application/vnd.jupyter.widget-view+json": {
       "model_id": "62c15e7712364346b499e1598f387f5c",
       "version_major": 2,
       "version_minor": 0
      },
      "text/plain": [
       "Canvas(toolbar=Toolbar(toolitems=[('Home', 'Reset original view', 'home', 'home'), ('Back', 'Back to previous …"
      ]
     },
     "metadata": {},
     "output_type": "display_data"
    }
   ],
   "source": [
    "order = [\"Базовый (А1)\",\"Ниже среднего (A2)\",\"Средний (B1)\",\"Выше среднего (B2)\",\"Продвинутый+ (С1+)\",]\n",
    "doBoxplot(\n",
    "    groupingCollumn=english_level, \n",
    "    aggregationColumn=current_salary,\n",
    "    title=\"Медианы зарплат по знанию английского\",\n",
    "    xlabel=\"Медиана в долларах\",\n",
    "    ylabel=\"Уровень\",\n",
    "    order=order,\n",
    ")"
   ]
  },
  {
   "cell_type": "code",
   "execution_count": 20,
   "metadata": {},
   "outputs": [
    {
     "data": {
      "application/vnd.jupyter.widget-view+json": {
       "model_id": "8b60f76034f94d1ca70f6c9931ceff93",
       "version_major": 2,
       "version_minor": 0
      },
      "text/plain": [
       "Canvas(toolbar=Toolbar(toolitems=[('Home', 'Reset original view', 'home', 'home'), ('Back', 'Back to previous …"
      ]
     },
     "metadata": {},
     "output_type": "display_data"
    }
   ],
   "source": [
    "order = [\"Среднее (школа)\",\"Неполное высшее\",\"Высшее\",\"Несколько высших\",]\n",
    "doBoxplot(\n",
    "    groupingCollumn=education, \n",
    "    aggregationColumn=current_salary,\n",
    "    title=\"Медианы зарплат по образованию\",\n",
    "    xlabel=\"Образование\",\n",
    "    ylabel=\"Медиана в долларах\",\n",
    "    order=order,\n",
    ")"
   ]
  },
  {
   "cell_type": "code",
   "execution_count": 21,
   "metadata": {},
   "outputs": [
    {
     "data": {
      "application/vnd.jupyter.widget-view+json": {
       "model_id": "5a400666d172465da9d660e5abc745e6",
       "version_major": 2,
       "version_minor": 0
      },
      "text/plain": [
       "Canvas(toolbar=Toolbar(toolitems=[('Home', 'Reset original view', 'home', 'home'), ('Back', 'Back to previous …"
      ]
     },
     "metadata": {},
     "output_type": "display_data"
    }
   ],
   "source": [
    "order = [\"Женский\",\"Мужской\",]\n",
    "doBoxplot(\n",
    "    groupingCollumn=gender, \n",
    "    aggregationColumn=current_salary,\n",
    "    title=\"Медианы зарплат по полу\",\n",
    "    ylabel=\"Пол\",\n",
    "    xlabel=\"Медиана в долларах\",\n",
    "    order=order\n",
    ")"
   ]
  },
  {
   "cell_type": "code",
   "execution_count": 22,
   "metadata": {},
   "outputs": [
    {
     "data": {
      "application/vnd.jupyter.widget-view+json": {
       "model_id": "3f624ae4d7e44f0db2b15b30cc4438d7",
       "version_major": 2,
       "version_minor": 0
      },
      "text/plain": [
       "Canvas(toolbar=Toolbar(toolitems=[('Home', 'Reset original view', 'home', 'home'), ('Back', 'Back to previous …"
      ]
     },
     "metadata": {},
     "output_type": "display_data"
    },
    {
     "data": {
      "text/plain": [
       "(array([0, 1, 2, 3, 4, 5, 6, 7]), <a list of 8 Text major ticklabel objects>)"
      ]
     },
     "execution_count": 22,
     "metadata": {},
     "output_type": "execute_result"
    }
   ],
   "source": [
    "male = df[df[gender] == \"Мужской\"]\n",
    "female = df[df[gender] == \"Женский\"]\n",
    "\n",
    "\n",
    "(male_frame := male[work_role]\n",
    "    .value_counts()\n",
    "    .rename(\"Мужчины\")\n",
    "    .to_frame())\n",
    "\n",
    "(female_frame := female[work_role]\n",
    "    .value_counts()\n",
    "    .rename(\"Женщины\")\n",
    "    .to_frame())\n",
    "\n",
    "female_frame.join(male_frame).plot(kind = 'bar',color=palette)\n",
    "\n",
    "plt.title(\"Распределение по ролям\")\n",
    "plt.ylabel(\"Количество\")\n",
    "plt.xlabel(\"Роли\")\n",
    "plt.xticks(rotation=\"horizontal\")"
   ]
  },
  {
   "cell_type": "code",
   "execution_count": 23,
   "metadata": {},
   "outputs": [
    {
     "data": {
      "application/vnd.jupyter.widget-view+json": {
       "model_id": "e91224af1466487795113dc81ede7d56",
       "version_major": 2,
       "version_minor": 0
      },
      "text/plain": [
       "Canvas(toolbar=Toolbar(toolitems=[('Home', 'Reset original view', 'home', 'home'), ('Back', 'Back to previous …"
      ]
     },
     "metadata": {},
     "output_type": "display_data"
    }
   ],
   "source": [
    "order = [\"В области\",\"Москва\",\"Питер\",\"Другие регионы\",\"Европа\",\"США\",]\n",
    "doBoxplot(\n",
    "    groupingCollumn=work_location, \n",
    "    aggregationColumn=current_salary,\n",
    "    title=\"Медианы зарплат по региону компании\",\n",
    "    xlabel=\"Место\",\n",
    "    ylabel=\"Медиана в долларах\",\n",
    "    order=order\n",
    ")"
   ]
  },
  {
   "cell_type": "code",
   "execution_count": 24,
   "metadata": {},
   "outputs": [
    {
     "data": {
      "application/vnd.jupyter.widget-view+json": {
       "model_id": "89f2ea674ea8496ab723966648c87904",
       "version_major": 2,
       "version_minor": 0
      },
      "text/plain": [
       "Canvas(toolbar=Toolbar(toolitems=[('Home', 'Reset original view', 'home', 'home'), ('Back', 'Back to previous …"
      ]
     },
     "metadata": {},
     "output_type": "display_data"
    }
   ],
   "source": [
    "order = [\"Почти каждый день\",\"1-2 раза в неделю\",\"1-2 раза в месяц\",\"Очень редко\",\"Никогда\",]\n",
    "doBoxplot(\n",
    "    groupingCollumn=overtime_frequency, \n",
    "    aggregationColumn=current_salary,\n",
    "    title=\"Зависимость зарплат от наивности\",\n",
    "    xlabel=\"Переработки\",\n",
    "    ylabel=\"Медиана в долларах\",\n",
    "    order=order\n",
    ")"
   ]
  },
  {
   "cell_type": "code",
   "execution_count": 25,
   "metadata": {},
   "outputs": [
    {
     "data": {
      "application/vnd.jupyter.widget-view+json": {
       "model_id": "f9a3bae50be6420ba168c22096365d8d",
       "version_major": 2,
       "version_minor": 0
      },
      "text/plain": [
       "Canvas(toolbar=Toolbar(toolitems=[('Home', 'Reset original view', 'home', 'home'), ('Back', 'Back to previous …"
      ]
     },
     "metadata": {},
     "output_type": "display_data"
    }
   ],
   "source": [
    "order = [\"Разработка\",\"Дизайн\",\"C-level\",\"Менеджмент\",\"QA\",\"Аналитика\",\"Другое\",]\n",
    "doBoxplot(\n",
    "    groupingCollumn=work_role, \n",
    "    aggregationColumn=current_salary,\n",
    "    title=\"Медианы зарплат по профессиям в целом\",\n",
    "    ylabel=\"Профессия\",\n",
    "    xlabel=\"Медиана в долларах\",\n",
    "    order=order\n",
    ")"
   ]
  },
  {
   "cell_type": "code",
   "execution_count": 26,
   "metadata": {},
   "outputs": [
    {
     "data": {
      "application/vnd.jupyter.widget-view+json": {
       "model_id": "388afab231f549719ef5df03243732ef",
       "version_major": 2,
       "version_minor": 0
      },
      "text/plain": [
       "Canvas(toolbar=Toolbar(toolitems=[('Home', 'Reset original view', 'home', 'home'), ('Back', 'Back to previous …"
      ]
     },
     "metadata": {},
     "output_type": "display_data"
    }
   ],
   "source": [
    "order = [\"Разработка\",\"C-level\",\"Менеджмент\",\"QA\",]\n",
    "doBoxplot(\n",
    "    groupingCollumn=work_role, \n",
    "    aggregationColumn=current_salary,\n",
    "    dataFrame=kaliningradF,\n",
    "    title=\"Медианы зарплат по профессиям в Калининграде\",\n",
    "    ylabel=\"Профессия\",\n",
    "    xlabel=\"Медиана в долларах\",\n",
    "    order=order\n",
    ")"
   ]
  },
  {
   "cell_type": "code",
   "execution_count": 41,
   "metadata": {},
   "outputs": [
    {
     "ename": "TypeError",
     "evalue": "doBoxplot() missing 1 required positional argument: 'order'",
     "output_type": "error",
     "traceback": [
      "\u001b[0;31m---------------------------------------------------------------------------\u001b[0m",
      "\u001b[0;31mTypeError\u001b[0m                                 Traceback (most recent call last)",
      "\u001b[0;32m<ipython-input-41-b2d66211f2b3>\u001b[0m in \u001b[0;36m<module>\u001b[0;34m\u001b[0m\n\u001b[1;32m      1\u001b[0m \u001b[0morder\u001b[0m \u001b[0;34m=\u001b[0m \u001b[0;34m[\u001b[0m\u001b[0;34m\"Разработка\"\u001b[0m\u001b[0;34m,\u001b[0m\u001b[0;34m\"QA\"\u001b[0m\u001b[0;34m,\u001b[0m\u001b[0;34m]\u001b[0m\u001b[0;34m\u001b[0m\u001b[0;34m\u001b[0m\u001b[0m\n\u001b[0;32m----> 2\u001b[0;31m doBoxplot(\n\u001b[0m\u001b[1;32m      3\u001b[0m     \u001b[0mgroupingCollumn\u001b[0m\u001b[0;34m=\u001b[0m\u001b[0mwork_role\u001b[0m\u001b[0;34m,\u001b[0m\u001b[0;34m\u001b[0m\u001b[0;34m\u001b[0m\u001b[0m\n\u001b[1;32m      4\u001b[0m     \u001b[0maggregationColumn\u001b[0m\u001b[0;34m=\u001b[0m\u001b[0mcurrent_salary\u001b[0m\u001b[0;34m,\u001b[0m\u001b[0;34m\u001b[0m\u001b[0;34m\u001b[0m\u001b[0m\n\u001b[1;32m      5\u001b[0m     \u001b[0mdataFrame\u001b[0m\u001b[0;34m=\u001b[0m\u001b[0motherSitiesF\u001b[0m\u001b[0;34m,\u001b[0m\u001b[0;34m\u001b[0m\u001b[0;34m\u001b[0m\u001b[0m\n",
      "\u001b[0;31mTypeError\u001b[0m: doBoxplot() missing 1 required positional argument: 'order'"
     ]
    }
   ],
   "source": [
    "order = [\"Разработка\",\"QA\",]\n",
    "doBoxplot(\n",
    "    groupingCollumn=work_role, \n",
    "    aggregationColumn=current_salary,\n",
    "    dataFrame=otherSitiesF,\n",
    "    title=\"Медианы зарплат по профессиям у работающих не на Калининград\",\n",
    "    ylabel=\"Профессия\",\n",
    "    xlabel=\"Медиана в долларах\",\n",
    "    order=order\n",
    ")"
   ]
  },
  {
   "cell_type": "code",
   "execution_count": 27,
   "metadata": {},
   "outputs": [
    {
     "data": {
      "application/vnd.jupyter.widget-view+json": {
       "model_id": "fcec4e781a3d4551b37fe8da4e20855d",
       "version_major": 2,
       "version_minor": 0
      },
      "text/plain": [
       "Canvas(toolbar=Toolbar(toolitems=[('Home', 'Reset original view', 'home', 'home'), ('Back', 'Back to previous …"
      ]
     },
     "metadata": {},
     "output_type": "display_data"
    },
    {
     "data": {
      "text/plain": [
       "(array([0, 1, 2, 3, 4, 5, 6]), <a list of 7 Text major ticklabel objects>)"
      ]
     },
     "execution_count": 27,
     "metadata": {},
     "output_type": "execute_result"
    }
   ],
   "source": [
    "(kaliningrad_frame := kaliningradF.groupby(work_role)[[current_salary]]\n",
    "     .agg([\"median\", 'count'])\n",
    "     .rename(columns={current_salary: \"Компании в области\"}))\n",
    "    \n",
    "kaliningrad_frame = kaliningrad_frame[kaliningrad_frame[(\"Компании в области\", 'count')] > 3]\n",
    "\n",
    "(other_frame := otherSitiesF.groupby(work_role)[[current_salary]]\n",
    "     .agg([\"median\", 'count'])\n",
    "     .rename(columns={current_salary: \"Другие\"}))\n",
    "    \n",
    "other_frame = other_frame[other_frame[(\"Другие\", 'count')] > 3]\n",
    "\n",
    "kaliningrad_frame.join(other_frame).loc[:,[(\"Компании в области\",\"median\"),(\"Другие\",\"median\")]].plot(kind = 'bar',color=palette)\n",
    "\n",
    "plt.title(\"Соотношение зарплат в области и вне\")\n",
    "plt.xlabel(\"Зарплата, USD\")\n",
    "plt.ylabel(\"Роли\")\n",
    "plt.xticks(rotation=\"horizontal\")"
   ]
  },
  {
   "cell_type": "code",
   "execution_count": 28,
   "metadata": {},
   "outputs": [
    {
     "data": {
      "application/vnd.jupyter.widget-view+json": {
       "model_id": "5b8b9ad0c6a44ff6874fc66bac39f720",
       "version_major": 2,
       "version_minor": 0
      },
      "text/plain": [
       "Canvas(toolbar=Toolbar(toolitems=[('Home', 'Reset original view', 'home', 'home'), ('Back', 'Back to previous …"
      ]
     },
     "metadata": {},
     "output_type": "display_data"
    }
   ],
   "source": [
    "order = ['Junior', 'Middle', 'Senior',]\n",
    "doBoxplot(\n",
    "    groupingCollumn=grade_level, \n",
    "    aggregationColumn=current_salary,\n",
    "    title=\"Медианы зарплат по грейду разработчиков в Калининграде\",\n",
    "    ylabel=\"Грейд\",\n",
    "    xlabel=\"Медиана в долларах\",\n",
    "    dataFrame=kaliningradF.loc[df[work_role] == \"Разработка\"],\n",
    "    order=order\n",
    ")"
   ]
  },
  {
   "cell_type": "code",
   "execution_count": 40,
   "metadata": {},
   "outputs": [
    {
     "name": "stderr",
     "output_type": "stream",
     "text": [
      "<ipython-input-7-20918c8afbe5>:10: RuntimeWarning: More than 20 figures have been opened. Figures created through the pyplot interface (`matplotlib.pyplot.figure`) are retained until explicitly closed and may consume too much memory. (To control this warning, see the rcParam `figure.max_open_warning`).\n",
      "  plt.figure()\n"
     ]
    },
    {
     "data": {
      "application/vnd.jupyter.widget-view+json": {
       "model_id": "efffbd9cd5614e6d972ef9f4888a1e91",
       "version_major": 2,
       "version_minor": 0
      },
      "text/plain": [
       "Canvas(toolbar=Toolbar(toolitems=[('Home', 'Reset original view', 'home', 'home'), ('Back', 'Back to previous …"
      ]
     },
     "metadata": {},
     "output_type": "display_data"
    }
   ],
   "source": [
    "order = ['Middle', 'Senior',]\n",
    "doBoxplot(\n",
    "    groupingCollumn=grade_level, \n",
    "    aggregationColumn=current_salary,\n",
    "    title=\"Медианы зарплат по грейду разработчиков не на Калининград\",\n",
    "    ylabel=\"Грейд\",\n",
    "    xlabel=\"Медиана в долларах\",\n",
    "    dataFrame=otherSitiesF.loc[df[work_role] == \"Разработка\"],\n",
    "    order=order\n",
    ")"
   ]
  },
  {
   "cell_type": "code",
   "execution_count": 29,
   "metadata": {},
   "outputs": [
    {
     "data": {
      "application/vnd.jupyter.widget-view+json": {
       "model_id": "4a03d70cc44c44f7842873ab74ad5ca0",
       "version_major": 2,
       "version_minor": 0
      },
      "text/plain": [
       "Canvas(toolbar=Toolbar(toolitems=[('Home', 'Reset original view', 'home', 'home'), ('Back', 'Back to previous …"
      ]
     },
     "metadata": {},
     "output_type": "display_data"
    }
   ],
   "source": [
    "order = ['Fullstack',  'Backend', 'Android','Кроссплатформа', 'Frontend',]\n",
    "doBoxplot(\n",
    "    groupingCollumn=dev_speciality, \n",
    "    aggregationColumn=current_salary,\n",
    "    title=\"Медианы зарплат по специальности разработчиков в Калининграде\",\n",
    "    ylabel=\"Роль\",\n",
    "    xlabel=\"Медиана в долларах\",\n",
    "    dataFrame=kaliningradF.loc[df[work_role] == \"Разработка\"],\n",
    "    order = order\n",
    ")"
   ]
  },
  {
   "cell_type": "code",
   "execution_count": 48,
   "metadata": {},
   "outputs": [
    {
     "name": "stderr",
     "output_type": "stream",
     "text": [
      "<ipython-input-7-20918c8afbe5>:10: RuntimeWarning: More than 20 figures have been opened. Figures created through the pyplot interface (`matplotlib.pyplot.figure`) are retained until explicitly closed and may consume too much memory. (To control this warning, see the rcParam `figure.max_open_warning`).\n",
      "  plt.figure()\n"
     ]
    },
    {
     "data": {
      "application/vnd.jupyter.widget-view+json": {
       "model_id": "03d7185b0c88497c88fd10beb848c0e8",
       "version_major": 2,
       "version_minor": 0
      },
      "text/plain": [
       "Canvas(toolbar=Toolbar(toolitems=[('Home', 'Reset original view', 'home', 'home'), ('Back', 'Back to previous …"
      ]
     },
     "metadata": {},
     "output_type": "display_data"
    }
   ],
   "source": [
    "order = ['Fullstack',  'Backend', 'Android', 'Frontend',]\n",
    "doBoxplot(\n",
    "    groupingCollumn=dev_speciality, \n",
    "    aggregationColumn=current_salary,\n",
    "    title=\"Медианы зарплат по специальности разработчиков не на Калининград\",\n",
    "    ylabel=\"Роль\",\n",
    "    xlabel=\"Медиана в долларах\",\n",
    "    dataFrame=otherSitiesF.loc[df[work_role] == \"Разработка\"],\n",
    "    order = order\n",
    ")"
   ]
  },
  {
   "cell_type": "code",
   "execution_count": 47,
   "metadata": {},
   "outputs": [
    {
     "data": {
      "text/plain": [
       "Backend                                10\n",
       "Fullstack                               9\n",
       "Frontend                                7\n",
       "Android                                 5\n",
       "iOS-разработчиком                       1\n",
       "ML engineer                             1\n",
       "data scientist                          1\n",
       "Кроссплатформа                          1\n",
       "DS teamlead                             1\n",
       "Embedded software разработчик (IoT)     1\n",
       "middle end                              1\n",
       "Системный программист                   1\n",
       "Name: Кем вы работаете?.2, dtype: int64"
      ]
     },
     "execution_count": 47,
     "metadata": {},
     "output_type": "execute_result"
    }
   ],
   "source": [
    "(otherSitiesF.loc[df[work_role] == \"Разработка\"])[dev_speciality].value_counts()"
   ]
  },
  {
   "cell_type": "code",
   "execution_count": 30,
   "metadata": {},
   "outputs": [
    {
     "name": "stderr",
     "output_type": "stream",
     "text": [
      "<ipython-input-7-20918c8afbe5>:10: RuntimeWarning: More than 20 figures have been opened. Figures created through the pyplot interface (`matplotlib.pyplot.figure`) are retained until explicitly closed and may consume too much memory. (To control this warning, see the rcParam `figure.max_open_warning`).\n",
      "  plt.figure()\n"
     ]
    },
    {
     "data": {
      "application/vnd.jupyter.widget-view+json": {
       "model_id": "f13f5657d52a41ccb30c43bded123b18",
       "version_major": 2,
       "version_minor": 0
      },
      "text/plain": [
       "Canvas(toolbar=Toolbar(toolitems=[('Home', 'Reset original view', 'home', 'home'), ('Back', 'Back to previous …"
      ]
     },
     "metadata": {},
     "output_type": "display_data"
    }
   ],
   "source": [
    "order=['1 год', '2 года', '3 года', '4 года',\n",
    "       '5 лет', '6 лет', '7 лет', '8-10 лет', '11-14 лет', 'более 15 лет']\n",
    "doBoxplot(\n",
    "    groupingCollumn=work_experience, \n",
    "    aggregationColumn=current_salary,\n",
    "    title=\"Медианы зарплат по опыту работы\",\n",
    "    xlabel=\"Опыт\",\n",
    "    ylabel=\"Медиана в долларах\",\n",
    "    order=order\n",
    ")"
   ]
  },
  {
   "cell_type": "code",
   "execution_count": 31,
   "metadata": {},
   "outputs": [
    {
     "data": {
      "text/plain": [
       "27-31    50\n",
       "32-35    44\n",
       "23-26    36\n",
       "36-40    22\n",
       "17-22    11\n",
       "40+       6\n",
       "Name: Ваш возраст, dtype: int64"
      ]
     },
     "execution_count": 31,
     "metadata": {},
     "output_type": "execute_result"
    }
   ],
   "source": [
    "ageDf = df[[age,current_salary]]\n",
    "\n",
    "(ageDf := ageDf.replace({\n",
    "    17:\"17-22\",   \n",
    "    20:\"17-22\",   \n",
    "    21:\"17-22\",   \n",
    "    22:\"17-22\",   \n",
    "    23:\"23-26\",   \n",
    "    24:\"23-26\",   \n",
    "    25:\"23-26\",   \n",
    "    26:\"23-26\",   \n",
    "    27:\"27-31\",   \n",
    "    28:\"27-31\",   \n",
    "    29:\"27-31\",\n",
    "    30:\"27-31\",   \n",
    "    31:\"32-35\",   \n",
    "    32:\"32-35\",   \n",
    "    33:\"32-35\",   \n",
    "    34:\"32-35\",   \n",
    "    35:\"32-35\",   \n",
    "    36:\"36-40\",   \n",
    "    37:\"36-40\",   \n",
    "    38:\"36-40\",   \n",
    "    39:\"36-40\",   \n",
    "    40:\"36-40\",\n",
    "    41:\"40+\",   \n",
    "    43:\"40+\",   \n",
    "    44:\"40+\",   \n",
    "    59:\"40+\",\n",
    "}))\n",
    "\n",
    "ageDf[age].value_counts()"
   ]
  },
  {
   "cell_type": "code",
   "execution_count": 32,
   "metadata": {},
   "outputs": [
    {
     "data": {
      "text/plain": [
       "Index(['17-22', '23-26', '27-31', '32-35', '36-40', '40+'], dtype='object', name='Ваш возраст')"
      ]
     },
     "execution_count": 32,
     "metadata": {},
     "output_type": "execute_result"
    }
   ],
   "source": [
    "ageDf.groupby([age])[[age]].count().index"
   ]
  },
  {
   "cell_type": "code",
   "execution_count": 33,
   "metadata": {},
   "outputs": [
    {
     "name": "stderr",
     "output_type": "stream",
     "text": [
      "<ipython-input-7-20918c8afbe5>:10: RuntimeWarning: More than 20 figures have been opened. Figures created through the pyplot interface (`matplotlib.pyplot.figure`) are retained until explicitly closed and may consume too much memory. (To control this warning, see the rcParam `figure.max_open_warning`).\n",
      "  plt.figure()\n"
     ]
    },
    {
     "data": {
      "application/vnd.jupyter.widget-view+json": {
       "model_id": "fc0c18e91efd4e339cb2bb77f0d86979",
       "version_major": 2,
       "version_minor": 0
      },
      "text/plain": [
       "Canvas(toolbar=Toolbar(toolitems=[('Home', 'Reset original view', 'home', 'home'), ('Back', 'Back to previous …"
      ]
     },
     "metadata": {},
     "output_type": "display_data"
    }
   ],
   "source": [
    "order = ['17-22', '23-26', '27-31', '32-35', '36-40', '40+']\n",
    "\n",
    "doBoxplot(\n",
    "    groupingCollumn=age, \n",
    "    aggregationColumn=current_salary,\n",
    "    dataFrame=ageDf,\n",
    "    title=\"Медианы зарплат по возрасту\",\n",
    "    ylabel=\"Возраст\",\n",
    "    xlabel=\"Медиана в долларах\",\n",
    "    order = order\n",
    ")"
   ]
  },
  {
   "cell_type": "markdown",
   "metadata": {},
   "source": [
    "## TODO переработки\n",
    "\n",
    "- вывести количество разных групп переработок в удалёнке и в офисе\n",
    "- количество переработок к финансовым бонусам\n",
    "- количество переработок к желанию рекомендавать компанию"
   ]
  },
  {
   "cell_type": "markdown",
   "metadata": {},
   "source": [
    "Расположись в башенках. Каждая группа башенок - где расположена компания. Башенки сколько было, сколько сейчас, сколько хотите.\n",
    "https://matplotlib.org/3.1.1/gallery/mplot3d/3d_bars.html"
   ]
  },
  {
   "cell_type": "markdown",
   "metadata": {},
   "source": [
    "TODO\n",
    "\n",
    "9) данные по бонусам (финансовым и не финансовым) в компаниях, находящихся в калининграде\n",
    "\n",
    "10) данные по релокации \n",
    "- какой процент хочет свалить в ближайшие 6 месяцев (больше 5 баллов)\n",
    "- куда хотят свалить\n",
    "- причины, почему хотят свалить"
   ]
  },
  {
   "cell_type": "markdown",
   "metadata": {},
   "source": [
    "TODO Берём калининград, для каждой профессии выводим столбик медиану по уровню. Потом берём разработчиков и для каждой подпрофессии тоже самое"
   ]
  },
  {
   "cell_type": "markdown",
   "metadata": {},
   "source": [
    "берём группу разработчики, и для каждой профессии внутри делаем количество человек по гендеру"
   ]
  }
 ],
 "metadata": {
  "kernelspec": {
   "display_name": "Python 3",
   "language": "python",
   "name": "python3"
  },
  "language_info": {
   "codemirror_mode": {
    "name": "ipython",
    "version": 3
   },
   "file_extension": ".py",
   "mimetype": "text/x-python",
   "name": "python",
   "nbconvert_exporter": "python",
   "pygments_lexer": "ipython3",
   "version": "3.8.2"
  }
 },
 "nbformat": 4,
 "nbformat_minor": 4
}
